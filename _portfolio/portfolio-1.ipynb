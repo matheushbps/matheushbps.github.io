{
 "cells": [
  {
   "cell_type": "markdown",
   "id": "f9dd47e6",
   "metadata": {},
   "source": [
    "# Text Summarization with Transformers\n",
    "\n",
    "![image](car.jpeg)\n",
    "\n",
    "**Car-ing is sharing**, an auto dealership company for car sales and rental, is taking their services to the next level thanks to **Large Language Models (LLMs)**.\n",
    "\n",
    "As their newly recruited AI and NLP developer, you have been asked to prototype a chatbot app with multiple functionalities that not only assist customers but also provide support to human agents in the company.\n",
    "\n",
    "The solution should receive textual prompts and use a variety of pre-trained Hugging Face LLMs to respond to a series of tasks, e.g. classifying the sentiment in a car's text review, answering a customer question, summarizing or translating text, etc."
   ]
  },
  {
   "cell_type": "markdown",
   "id": "995b1f45",
   "metadata": {},
   "source": [
    "\n",
    "\n",
    "### New Jupyter Notebook: `text_summarization_notebook.ipynb`\n",
    "\n",
    "#### Cell 1: Notebook Title and Introduction\n"
   ]
  },
  {
   "cell_type": "markdown",
   "id": "d16aac9f",
   "metadata": {},
   "source": [
    "# Text Summarization with Transformers\n",
    "\n",
    "![image](car.jpeg)\n",
    "\n",
    "**Car-ing is sharing**, an auto dealership company for car sales and rental, is taking their services to the next level thanks to **Large Language Models (LLMs)**.\n",
    "\n",
    "As their newly recruited AI and NLP developer, you have been asked to prototype a chatbot app with multiple functionalities that not only assist customers but also provide support to human agents in the company.\n",
    "\n",
    "The solution should receive textual prompts and use a variety of pre-trained Hugging Face LLMs to respond to a series of tasks, e.g. classifying the sentiment in a car's text review, answering a customer question, summarizing or translating text, etc."
   ]
  },
  {
   "cell_type": "markdown",
   "id": "7a37b112",
   "metadata": {},
   "source": [
    "\n",
    "\n",
    "#### Cell 2: Install Necessary Libraries\n"
   ]
  },
  {
   "cell_type": "markdown",
   "id": "403b45eb",
   "metadata": {},
   "source": [
    "## Install Necessary Libraries\n",
    "\n",
    "Before you start, ensure you have the necessary libraries installed. You can install them using the following commands:"
   ]
  },
  {
   "cell_type": "markdown",
   "id": "f9e85ab4",
   "metadata": {},
   "source": [
    "\n",
    "\n",
    "\n",
    "\n",
    "#### Cell 3: Import Libraries and Set Logging Level\n"
   ]
  },
  {
   "cell_type": "code",
   "execution_count": 1,
   "id": "941957fb",
   "metadata": {},
   "outputs": [],
   "source": [
    "# Import the necessary libraries from the transformers package\n",
    "from transformers import logging, AutoTokenizer, AutoModelForSeq2SeqLM\n",
    "\n",
    "# Set logging level to warning to reduce verbosity\n",
    "logging.set_verbosity(logging.WARNING)"
   ]
  },
  {
   "cell_type": "markdown",
   "id": "5bf638ea",
   "metadata": {},
   "source": [
    "\n",
    "\n",
    "#### Cell 4: Load Car Reviews Dataset\n"
   ]
  },
  {
   "cell_type": "code",
   "execution_count": 2,
   "id": "a4509357",
   "metadata": {},
   "outputs": [
    {
     "data": {
      "text/html": [
       "<div>\n",
       "<style scoped>\n",
       "    .dataframe tbody tr th:only-of-type {\n",
       "        vertical-align: middle;\n",
       "    }\n",
       "\n",
       "    .dataframe tbody tr th {\n",
       "        vertical-align: top;\n",
       "    }\n",
       "\n",
       "    .dataframe thead th {\n",
       "        text-align: right;\n",
       "    }\n",
       "</style>\n",
       "<table border=\"1\" class=\"dataframe\">\n",
       "  <thead>\n",
       "    <tr style=\"text-align: right;\">\n",
       "      <th></th>\n",
       "      <th>Review</th>\n",
       "      <th>Class</th>\n",
       "    </tr>\n",
       "  </thead>\n",
       "  <tbody>\n",
       "    <tr>\n",
       "      <th>0</th>\n",
       "      <td>I am very satisfied with my 2014 Nissan NV SL....</td>\n",
       "      <td>POSITIVE</td>\n",
       "    </tr>\n",
       "    <tr>\n",
       "      <th>1</th>\n",
       "      <td>The car is fine. It's a bit loud and not very ...</td>\n",
       "      <td>NEGATIVE</td>\n",
       "    </tr>\n",
       "    <tr>\n",
       "      <th>2</th>\n",
       "      <td>My first foreign car. Love it, I would buy ano...</td>\n",
       "      <td>POSITIVE</td>\n",
       "    </tr>\n",
       "    <tr>\n",
       "      <th>3</th>\n",
       "      <td>I've come across numerous reviews praising the...</td>\n",
       "      <td>NEGATIVE</td>\n",
       "    </tr>\n",
       "    <tr>\n",
       "      <th>4</th>\n",
       "      <td>I've been dreaming of owning an SUV for quite ...</td>\n",
       "      <td>POSITIVE</td>\n",
       "    </tr>\n",
       "  </tbody>\n",
       "</table>\n",
       "</div>"
      ],
      "text/plain": [
       "                                              Review     Class\n",
       "0  I am very satisfied with my 2014 Nissan NV SL....  POSITIVE\n",
       "1  The car is fine. It's a bit loud and not very ...  NEGATIVE\n",
       "2  My first foreign car. Love it, I would buy ano...  POSITIVE\n",
       "3  I've come across numerous reviews praising the...  NEGATIVE\n",
       "4  I've been dreaming of owning an SUV for quite ...  POSITIVE"
      ]
     },
     "execution_count": 4,
     "metadata": {},
     "output_type": "execute_result"
    }
   ],
   "source": [
    "# Load the car reviews dataset\n",
    "import pandas as pd\n",
    "\n",
    "# Specify the file path to the dataset\n",
    "file_path = \"data/car_reviews.csv\"\n",
    "\n",
    "# Read the dataset into a DataFrame\n",
    "df = pd.read_csv(file_path, delimiter=\";\")\n",
    "\n",
    "# Display the first few rows of the DataFrame\n",
    "df.head()"
   ]
  },
  {
   "cell_type": "markdown",
   "id": "9553766a",
   "metadata": {},
   "source": [
    "\n",
    "\n",
    "#### Cell 5: Sentiment Analysis\n"
   ]
  },
  {
   "cell_type": "markdown",
   "id": "3cefbfb0",
   "metadata": {},
   "source": [
    "## Sentiment Analysis\n",
    "\n",
    "We will use a pre-trained model to classify the sentiment of car reviews."
   ]
  },
  {
   "cell_type": "code",
   "execution_count": 3,
   "id": "e962a3bd",
   "metadata": {},
   "outputs": [
    {
     "name": "stdout",
     "output_type": "stream",
     "text": [
      "WARNING:tensorflow:From C:\\Users\\Matheus Henrique\\AppData\\Roaming\\Python\\Python312\\site-packages\\tf_keras\\src\\losses.py:2976: The name tf.losses.sparse_softmax_cross_entropy is deprecated. Please use tf.compat.v1.losses.sparse_softmax_cross_entropy instead.\n",
      "\n"
     ]
    },
    {
     "name": "stdout",
     "output_type": "stream",
     "text": [
      "Review: I am very satisfied with my 2014 Nissan NV SL. I use this van for my business deliveries and personal use. Camping, road trips, etc. We dont have any children so I store most of the seats in my warehouse. I wanted the passenger van for the rear air conditioning. We drove our van from Florida to California for a Cross Country trip in 2014. We averaged about 18 mpg. We drove thru a lot of rain and It was a very comfortable and stable vehicle. The V8 Nissan Titan engine is a 500k mile engine. It has been tested many times by delivery and trucking companies. This is why Nissan gives you a 5 year or 100k mile bumper to bumper warranty. Many people are scared about driving this van because of its size. But with front and rear sonar sensors, large mirrors and the back up camera. It is easy to drive. The front and rear sensors also monitor the front and rear sides of the bumpers making it easier to park close to objects. Our Nissan NV is a Tow Monster. It pulls our 5000 pound travel trailer like its not even there. I have plenty of power to pass a vehicle if needed. The 5.6 liter engine produces 317 hp. I have owned Chevy and Ford vans and there were not very comfortable and had little cockpit room. The Nissan NV is the only vehicle made that has the engine forward like a pick up truck giving the driver plenty of room and comfort in the cockpit area. I dont have any negatives to say about my NV. This is a wide vehicle. The only modification I would like to see from Nissan is for them to add amber side mirror marker lights.BTW. I now own a 2016 Nissan NVP SL. Love it.\n",
      "Actual Sentiment: POSITIVE\n",
      "Predicted Sentiment: POSITIVE (Confidence: 0.9294)\n",
      "\n",
      "Review: The car is fine. It's a bit loud and not very powerful. On one hand, compared to its peers, the interior is well-built. The transmission failed a few years ago, and the dealer replaced it under warranty with no issues. Now, about 60k miles later, the transmission is failing again. It sounds like a truck, and the issues are well-documented. The dealer tells me it is normal, refusing to do anything to resolve the issue. After owning the car for 4 years, there are many other vehicles I would purchase over this one. Initially, I really liked what the brand is about: ride quality, reliability, etc. But I will not purchase another one. Despite these concerns, I must say, the level of comfort in the car has always been satisfactory, but not worth the rest of issues found.\n",
      "Actual Sentiment: NEGATIVE\n",
      "Predicted Sentiment: POSITIVE (Confidence: 0.8654)\n",
      "\n",
      "Review: My first foreign car. Love it, I would buy another.\n",
      "Actual Sentiment: POSITIVE\n",
      "Predicted Sentiment: POSITIVE (Confidence: 0.9995)\n",
      "\n",
      "Review: I've come across numerous reviews praising the Rogue, and I genuinely feel like I might be missing something. It's only been a week since I got the car, and I am genuinely disappointed. I truly wish I could return it. My main concern revolves around what I see as a significant design flaw (which I believe also exists in the Murano, though that wasn't much better and considerably pricier). The rear windshield is just too small. The headrests in the back seat obstruct the sides of the rearview window. This \"Crossover\" feels more like a cheaply made compact car. My other vehicle is a Sonata, and it provides a significantly quieter and smoother ride. I did not anticipate this car to ride so roughly; my 2006 Pathfinder had a smoother ride! I would rate this car a 5 all around.\n",
      "Actual Sentiment: NEGATIVE\n",
      "Predicted Sentiment: NEGATIVE (Confidence: 0.9935)\n",
      "\n",
      "Review: I've been dreaming of owning an SUV for quite a while, but I've been driving cars that were already paid for during an extended period. I ultimately made the decision to transition to a brand-new car, which, of course, involved taking on new payments. However, given that I don't drive extensively, I was inclined to avoid a substantial financial commitment. The Nissan Rogue provides me with the desired SUV experience without burdening me with an exorbitant payment; the financial arrangement is quite reasonable. Handling and styling are great; I have hauled 12 bags of mulch in the back with the seats down and could have held more. I am VERY satisfied overall. I find myself needing to exercise extra caution when making lane changes, particularly owing to the blind spots resulting from the small side windows situated towards the rear of the vehicle. To address this concern, I am actively engaged in making adjustments to my mirrors and consciously reducing the frequency of lane changes. The engine delivers strong performance, and the ride is really smooth.\n",
      "Actual Sentiment: POSITIVE\n",
      "Predicted Sentiment: POSITIVE (Confidence: 0.9987)\n",
      "\n"
     ]
    },
    {
     "name": "stdout",
     "output_type": "stream",
     "text": [
      "Accuracy: 0.8\n",
      "F1 result: 0.8571428571428571\n"
     ]
    }
   ],
   "source": [
    "# Running the sentiment classification\n",
    "\n",
    "# Load a sentiment analysis LLM into a pipeline\n",
    "from transformers import pipeline\n",
    "\n",
    "classifier = pipeline('sentiment-analysis', model='distilbert-base-uncased-finetuned-sst-2-english')\n",
    "\n",
    "# Perform inference on the car reviews and display prediction results\n",
    "reviews = df.Review.to_list()\n",
    "real_labels = df.Class.to_list()\n",
    "predicted_labels = classifier(reviews)\n",
    "for review, prediction, label in zip(reviews, predicted_labels, real_labels):\n",
    "    print(f\"Review: {review}\\nActual Sentiment: {label}\\nPredicted Sentiment: {prediction['label']} (Confidence: {prediction['score']:.4f})\\n\")\n",
    "\n",
    "# Load accuracy and F1 score metrics\n",
    "import evaluate\n",
    "accuracy = evaluate.load('accuracy')\n",
    "f1 = evaluate.load('f1')\n",
    "\n",
    "# Map categorical sentiment labels into integer labels\n",
    "references = [1 if label == \"POSITIVE\" else 0 for label in real_labels]\n",
    "predictions = [1 if label['label'] == \"POSITIVE\" else 0 for label in predicted_labels]\n",
    "\n",
    "# Calculate accuracy and F1 score\n",
    "accuracy_result_dict = accuracy.compute(references=references, predictions=predictions)\n",
    "accuracy_result = accuracy_result_dict['accuracy']\n",
    "f1_result_dict = f1.compute(references=references, predictions=predictions)\n",
    "f1_result = f1_result_dict['f1']\n",
    "print(f\"Accuracy: {accuracy_result}\")\n",
    "print(f\"F1 result: {f1_result}\")"
   ]
  },
  {
   "cell_type": "markdown",
   "id": "5e910245",
   "metadata": {},
   "source": [
    "\n",
    "\n",
    "\n",
    "\n",
    "#### Cell 6: Text Translation\n"
   ]
  },
  {
   "cell_type": "markdown",
   "id": "f73a09aa",
   "metadata": {},
   "source": [
    "## Text Translation\n",
    "\n",
    "We will use a pre-trained model to translate car reviews from Spanish to English."
   ]
  },
  {
   "cell_type": "code",
   "execution_count": 4,
   "id": "4577ed34",
   "metadata": {},
   "outputs": [
    {
     "name": "stdout",
     "output_type": "stream",
     "text": [
      "Translated: Estoy muy satisfecho con mi Nissan NV SL 2014. Uso esta camioneta para mis entregas de negocios y uso personal\n",
      "Original: Estoy muy satisfecho con mi Nissan NV SL 2014. Utilizo esta camioneta para mis entregas comerciales y uso personal.\n",
      "Bleu Score: 0.6712403123245675\n",
      "\n",
      "Translated: Estoy muy satisfecho con mi Nissan NV SL 2014. Uso esta camioneta para mis entregas de negocios y uso personal\n",
      "Original: Estoy muy satisfecho con mi Nissan NV SL 2014. Uso esta furgoneta para mis entregas comerciales y uso personal.\n",
      "Bleu Score: 0.6712403123245675\n",
      "\n"
     ]
    }
   ],
   "source": [
    "# Load model directly\n",
    "translator = pipeline(\"translation\", model=\"Helsinki-NLP/opus-mt-es-en\", truncate=True)\n",
    "\n",
    "# Filtering the data to be translated\n",
    "data_to_translate = df.Review.iloc[0]\n",
    "data_to_translate\n",
    "\n",
    "# Selecting only the first two sentences\n",
    "sentences = data_to_translate.split(\".\")\n",
    "first_two_sentences = sentences[:2]\n",
    "data_to_translate = \".\".join(first_two_sentences)\n",
    "\n",
    "translator = pipeline(\"translation\", model=\"Helsinki-NLP/opus-mt-en-es\")\n",
    "translated_review = translator(data_to_translate)[0]['translation_text']\n",
    "\n",
    "# Loading BLEU metric\n",
    "bleu = evaluate.load('bleu')\n",
    "\n",
    "# Loading the reference translations\n",
    "reviews_es = pd.read_csv('data/reference_translations.txt', names=['reviews'])\n",
    "reviews_es = list(reviews_es.reviews.values)\n",
    "\n",
    "# Calculating BLEU score\n",
    "for review in reviews_es:\n",
    "    print(f\"Translated: {translated_review}\")\n",
    "    print(f\"Original: {review}\")\n",
    "    bleu_score = bleu.compute(references=[review], predictions=[translated_review])\n",
    "    print(f\"Bleu Score: {bleu_score['bleu']}\")\n",
    "    print()"
   ]
  },
  {
   "cell_type": "markdown",
   "id": "f582f91a",
   "metadata": {},
   "source": [
    "\n",
    "\n",
    "\n",
    "\n",
    "#### Cell 7: Question Answering\n"
   ]
  },
  {
   "cell_type": "markdown",
   "id": "1727c0d7",
   "metadata": {},
   "source": [
    "## Question Answering\n",
    "\n",
    "We will use a pre-trained model to answer questions about car reviews."
   ]
  },
  {
   "cell_type": "code",
   "execution_count": 5,
   "id": "b845a334",
   "metadata": {},
   "outputs": [
    {
     "name": "stderr",
     "output_type": "stream",
     "text": [
      "Some weights of the model checkpoint at deepset/minilm-uncased-squad2 were not used when initializing BertForQuestionAnswering: ['bert.pooler.dense.bias', 'bert.pooler.dense.weight']\n",
      "- This IS expected if you are initializing BertForQuestionAnswering from the checkpoint of a model trained on another task or with another architecture (e.g. initializing a BertForSequenceClassification model from a BertForPreTraining model).\n",
      "- This IS NOT expected if you are initializing BertForQuestionAnswering from the checkpoint of a model that you expect to be exactly identical (initializing a BertForSequenceClassification model from a BertForSequenceClassification model).\n"
     ]
    },
    {
     "name": "stdout",
     "output_type": "stream",
     "text": [
      "Main terms at the answer = ride quality, reliability\n"
     ]
    }
   ],
   "source": [
    "# Loading the model for QA\n",
    "import transformers\n",
    "model_name_QA = \"deepset/minilm-uncased-squad2\"\n",
    "\n",
    "model = transformers.AutoModelForQuestionAnswering.from_pretrained(model_name_QA)\n",
    "tokenizer = transformers.AutoTokenizer.from_pretrained(model_name_QA)\n",
    "\n",
    "# Defining the question\n",
    "question = \"What did he like about the brand?\"\n",
    "\n",
    "# Selecting the 2nd review in the dataset\n",
    "context = df['Review'][1]\n",
    "\n",
    "# Tokenizing the inputs and returning PyTorch tensors\n",
    "import torch\n",
    "inputs = tokenizer.encode(question, context, return_tensors='pt')\n",
    "\n",
    "with torch.no_grad():\n",
    "    output = model(inputs)\n",
    "\n",
    "# Catching the highest logits, which means the highest probability of the tokens for the beginning and for the end\n",
    "start = torch.argmax(output.start_logits)\n",
    "end = torch.argmax(output.end_logits) + 1\n",
    "\n",
    "# Filtering the tokenized text for the highest probable tokens\n",
    "answer_span = inputs[0][start:end]\n",
    "\n",
    "# Translating the answer for human-readable format\n",
    "answer = tokenizer.decode(answer_span)\n",
    "print(f\"Main terms at the answer = {answer}\")"
   ]
  },
  {
   "cell_type": "markdown",
   "id": "a23c6873",
   "metadata": {},
   "source": [
    "\n",
    "\n",
    "\n",
    "\n",
    "#### Cell 8: Text Summarization\n"
   ]
  },
  {
   "cell_type": "markdown",
   "id": "76516fc5",
   "metadata": {},
   "source": [
    "## Text Summarization\n",
    "\n",
    "We will use the `Falconsai/text_summarization` model to summarize the last review in our dataset."
   ]
  },
  {
   "cell_type": "code",
   "execution_count": 6,
   "id": "b6dee949",
   "metadata": {},
   "outputs": [
    {
     "data": {
      "text/plain": [
       "'. The Nissan Rogue provides me with the desired SUV experience without burdening me with an exorbitant payment. The financial arrangement is quite reasonable; the financial arrangement is quite reasonable. Handling and styling are great; I'"
      ]
     },
     "execution_count": 8,
     "metadata": {},
     "output_type": "execute_result"
    }
   ],
   "source": [
    "# Load the pre-trained tokenizer and model for text summarization\n",
    "tokenizer = AutoTokenizer.from_pretrained(\"Falconsai/text_summarization\")\n",
    "model = AutoModelForSeq2SeqLM.from_pretrained(\"Falconsai/text_summarization\")\n",
    "\n",
    "# Extract the last review text from the DataFrame\n",
    "text = df['Review'].iloc[-1]\n",
    "\n",
    "# Tokenize the input text and convert it to tensor format\n",
    "inputs = tokenizer.encode(text, return_tensors='pt')\n",
    "\n",
    "# Generate the summary using the model\n",
    "outputs = model.generate(inputs, max_length=50)\n",
    "\n",
    "# Decode the generated summary to a human-readable format\n",
    "summarized_text = tokenizer.decode(outputs[0], skip_special_tokens=True)\n",
    "\n",
    "# Display the summarized text\n",
    "summarized_text"
   ]
  },
  {
   "cell_type": "markdown",
   "id": "17e356c7",
   "metadata": {},
   "source": [
    "\n",
    "\n",
    "\n",
    "\n",
    "#### Cell 9: Conclusion\n"
   ]
  },
  {
   "cell_type": "markdown",
   "id": "7a795d54",
   "metadata": {},
   "source": [
    "## Conclusion\n",
    "\n",
    "In this notebook, we demonstrated how to use the `transformers` library to perform sentiment analysis, text translation, question answering, and text summarization on car reviews using various pre-trained models. By following the steps outlined in this notebook, you can build a chatbot app with multiple functionalities to assist customers and provide support to human agents in an auto dealership company."
   ]
  }
 ],
 "metadata": {
  "colab": {
   "name": "Welcome to DataCamp Workspaces.ipynb",
   "provenance": []
  },
  "editor": "DataLab",
  "kernelspec": {
   "display_name": "Python 3",
   "language": "python",
   "name": "python3"
  },
  "language_info": {
   "codemirror_mode": {
    "name": "ipython",
    "version": 3
   },
   "file_extension": ".py",
   "mimetype": "text/x-python",
   "name": "python",
   "nbconvert_exporter": "python",
   "pygments_lexer": "ipython3",
   "version": "3.12.3"
  }
 },
 "nbformat": 4,
 "nbformat_minor": 5
}
